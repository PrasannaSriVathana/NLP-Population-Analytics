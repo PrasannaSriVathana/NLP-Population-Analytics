{
 "cells": [
  {
   "cell_type": "code",
   "execution_count": 12,
   "id": "6fcb2d54-9462-49a5-8713-51fb4e527041",
   "metadata": {},
   "outputs": [
    {
     "name": "stdout",
     "output_type": "stream",
     "text": [
      "Top 10 collocations based on PMI:\n",
      "('advancements', 'medicine')\n",
      "('age', 'distribution')\n",
      "('around', 'world')\n",
      "('cities', 'around')\n",
      "('declining', 'birth')\n",
      "('degradation', 'resource')\n",
      "('density', 'varies')\n",
      "('depletion', 'government')\n",
      "('different', 'regions')\n",
      "('due', 'various')\n"
     ]
    },
    {
     "name": "stderr",
     "output_type": "stream",
     "text": [
      "[nltk_data] Downloading package punkt to\n",
      "[nltk_data]     C:\\Users\\admin\\AppData\\Roaming\\nltk_data...\n",
      "[nltk_data]   Package punkt is already up-to-date!\n",
      "[nltk_data] Downloading package stopwords to\n",
      "[nltk_data]     C:\\Users\\admin\\AppData\\Roaming\\nltk_data...\n",
      "[nltk_data]   Package stopwords is already up-to-date!\n"
     ]
    }
   ],
   "source": [
    "import nltk\n",
    "from nltk.collocations import BigramCollocationFinder, BigramAssocMeasures\n",
    "from nltk.tokenize import word_tokenize\n",
    "from nltk.corpus import stopwords\n",
    "import string\n",
    "\n",
    "nltk.download('punkt')\n",
    "nltk.download('stopwords')\n",
    "\n",
    "file_path = 'meaningful_corpus.txt'\n",
    "\n",
    "with open(file_path, 'r', encoding='utf-8') as file:\n",
    "    text = file.read()\n",
    "\n",
    "def preprocess_text(text):\n",
    "    tokens = word_tokenize(text.lower()) \n",
    "    tokens = [word for word in tokens if word.isalpha()]\n",
    "    stop_words = set(stopwords.words('english'))\n",
    "    tokens = [word for word in tokens if word not in stop_words]\n",
    "    return tokens\n",
    "\n",
    "tokens = preprocess_text(text)\n",
    "\n",
    "bigram_finder = BigramCollocationFinder.from_words(tokens)\n",
    "\n",
    "bigram_measures = BigramAssocMeasures()\n",
    "collocations = bigram_finder.nbest(bigram_measures.pmi, 10)  # Top 10 collocations\n",
    "\n",
    "print(\"Top 10 collocations based on PMI:\")\n",
    "for bigram in collocations:\n",
    "    print(bigram)"
   ]
  },
  {
   "cell_type": "code",
   "execution_count": 25,
   "id": "60ac1a3e-606e-4a07-ab4e-71ed2dacd4cd",
   "metadata": {},
   "outputs": [
    {
     "name": "stdout",
     "output_type": "stream",
     "text": [
      "Top 10 collocations based on PMI:\n",
      "('advancements', 'medicine')\n",
      "('age', 'distribution')\n",
      "('around', 'world')\n",
      "('cities', 'around')\n",
      "('declining', 'birth')\n",
      "('degradation', 'resource')\n",
      "('density', 'varies')\n",
      "('depletion', 'government')\n",
      "('different', 'regions')\n",
      "('due', 'various')\n"
     ]
    }
   ],
   "source": [
    "def pos_tagging(tokens):\n",
    "    return nltk.pos_tag(tokens)\n",
    "\n",
    "def filter_bigrams_by_pos(bigrams, pos_tags):\n",
    "    filtered_bigrams = []\n",
    "    for bigram in bigrams:\n",
    "        word1, word2 = bigram\n",
    "        pos1 = pos_tags.get(word1, None)\n",
    "        pos2 = pos_tags.get(word2, None)\n",
    "        if pos1 and pos2 and pos1.startswith('N') and pos2.startswith('N'):  # Example filter: both words are nouns\n",
    "            filtered_bigrams.append(bigram)\n",
    "    return filtered_bigrams\n",
    "\n",
    "pos_tags = dict(pos_tagging(tokens)) \n",
    "\n",
    "bigram_finder = BigramCollocationFinder.from_words(tokens)\n",
    "bigram_freq = bigram_finder.ngram_fd\n",
    "\n",
    "bigram_measures = BigramAssocMeasures()\n",
    "\n",
    "collocations = bigram_finder.nbest(bigram_measures.pmi, 10)\n",
    "\n",
    "sorted_bigrams = sorted(bigram_freq.items(), key=lambda x: x[1], reverse=True)\n",
    "\n",
    "filtered_bigrams = filter_bigrams_by_pos(collocations, pos_tags)\n",
    "\n",
    "print(\"Top 10 collocations based on PMI:\")\n",
    "for bigram in collocations:\n",
    "    print(bigram)\n"
   ]
  },
  {
   "cell_type": "code",
   "execution_count": 41,
   "id": "ffc5dc34-e234-49ba-9544-c15b8037caff",
   "metadata": {},
   "outputs": [
    {
     "name": "stdout",
     "output_type": "stream",
     "text": [
      "\n",
      "T-test results:\n",
      "T-statistic: 0.0\n",
      "P-value: 1.0\n",
      "The result is statistically significant at the 2.576 level.\n"
     ]
    }
   ],
   "source": [
    "from scipy import stats\n",
    "\n",
    "bigram_finder2 = BigramCollocationFinder.from_words(tokens)\n",
    "bigram_freq2 = bigram_finder2.ngram_fd\n",
    "\n",
    "bigrams_to_compare = set(bigram_freq.keys()).intersection(bigram_freq2.keys())\n",
    "\n",
    "freqs1 = [bigram_freq[bigram] for bigram in bigrams_to_compare]\n",
    "freqs2 = [bigram_freq2[bigram] for bigram in bigrams_to_compare]\n",
    "\n",
    "t_stat, p_value = stats.ttest_ind(freqs1, freqs2, equal_var=False)\n",
    "\n",
    "print(\"\\nT-test results:\")\n",
    "print(f\"T-statistic: {t_stat}\")\n",
    "print(f\"P-value: {p_value}\")\n",
    "\n",
    "\n",
    "alpha = 0.05\n",
    "cv=2.576\n",
    "if p_value < cv:\n",
    "    print(f\"The result is statistically significant at the {cv} level.\")\n",
    "else:\n",
    "    print(f\"The result is not statistically significant at the {cv} level.\")\n"
   ]
  },
  {
   "cell_type": "code",
   "execution_count": null,
   "id": "f21fd980-2c40-4e25-b505-55f1ca176c5c",
   "metadata": {},
   "outputs": [],
   "source": []
  },
  {
   "cell_type": "code",
   "execution_count": null,
   "id": "0d758ff6-2f49-4384-97dc-8d6076b1baae",
   "metadata": {},
   "outputs": [],
   "source": []
  }
 ],
 "metadata": {
  "kernelspec": {
   "display_name": "Python 3 (ipykernel)",
   "language": "python",
   "name": "python3"
  },
  "language_info": {
   "codemirror_mode": {
    "name": "ipython",
    "version": 3
   },
   "file_extension": ".py",
   "mimetype": "text/x-python",
   "name": "python",
   "nbconvert_exporter": "python",
   "pygments_lexer": "ipython3",
   "version": "3.11.7"
  }
 },
 "nbformat": 4,
 "nbformat_minor": 5
}
